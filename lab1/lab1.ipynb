{
 "cells": [
  {
   "metadata": {},
   "cell_type": "markdown",
   "source": "# Algorytmy macierzowe — lab 1",
   "id": "96286490fa4a6c03"
  },
  {
   "metadata": {},
   "cell_type": "markdown",
   "source": "### Krzysztof Kopel, Marcin Szulc",
   "id": "b31bbd78b71c6770"
  },
  {
   "metadata": {
    "ExecuteTime": {
     "end_time": "2025-10-18T11:08:10.382281Z",
     "start_time": "2025-10-18T11:08:10.373876Z"
    }
   },
   "cell_type": "markdown",
   "source": [
    "## Cel laboratorium\n",
    "Celem laboratorium było zaimplementowanie i przetestowanie podstawowych algorytmów mnożenia macierzy, w tym metod Binéta, Strassena oraz Nature AI. Testowanie zaimplementowanych algorytmów polegać miało w szczególności na sprawdzeniu ich poprawności oraz oszacowaniu złożoności obliczeniowej, a także zależności czasu wykonania, zużycia pamięci i liczby operacji zmiennoprzecinkowych od rozmiaru macierzy wejściowych."
   ],
   "id": "7113a2ba08bc5869"
  },
  {
   "metadata": {},
   "cell_type": "markdown",
   "source": [
    "## Ustalenia techniczne\n",
    "Do implementacji algorytmów wykorzystaliśmy język Python w wersji 3.13. Macierze zostały zaimplementowane jako Numpy ndarrays, które dzięki swojej implementacji są szybsze od tradycyjnych Pythonowych list wielowymiarowych, jak również posiadają kilka przydatnych dla nas metod, np. do sprawdzania rozmiaru macierzy. Każdy algorytm \"opakowaliśmy\" w klasę, w której zapisywaliśmy informację na temat liczby wykonanych operacji zmiennoprzecinkowych oraz zużycia pamięci (tzw. wrapper). Do pomiaru czasu wykonania posłużyła nam biblioteka time. Do wizualizacji wyników wykorzystaliśmy bibliotekę matplotlib.\n",
    "#### Generowanie macierzy testowych\n",
    "Wygenerowaliśmy macierze kwadratowe o rozmiarach od 1 x 1 do 1000 × 1000 (po dwie każdego rozmiaru), zawierające losowe liczby zmiennoprzecinkowe z przedziału $[0,00000001, 1]$."
   ],
   "id": "66b6484cfa35a7cc"
  },
  {
   "metadata": {},
   "cell_type": "code",
   "source": [
    "import numpy as np\n",
    "\n",
    "matrices = [(np.random.uniform(0.00000001, 1, (i, i)), np.random.uniform(0.00000001, 1, (i, i))) for i in range(1, 1001)]"
   ],
   "id": "b693b53abbb797b8",
   "outputs": [],
   "execution_count": null
  },
  {
   "metadata": {},
   "cell_type": "markdown",
   "source": [
    "## Metoda Binéta\n",
    "Metoda Binéta polega na podzieleniu macierzy na cztery \"bloki\" i wykonaniu na nich rekurencyjnie odpowiednich operacji mnożenia i dodawania. Rekurencja kończyła się, gdy liczba kolumn lub wierszy w jednej z macierzy spadała do 1, wówczas reszta mnożenia była wykonywana algorytmem klasycznym.\n",
    "### Pseudokod algorytmu:\n",
    "1. Jeśli któraś z macierzy ma liczbę kolumn lub wierszy równą 1, to wykonaj mnożenie klasyczne i zakończ.\n",
    "2. Podziel macierz A na cztery bloki: A11, A12, A21, A22.\n",
    "3. Podziel macierz B na cztery bloki: B11, B12, B21, B22.\n",
    "4. Oblicz następujące iloczyny rekurencyjnie (wracając do punktu 1 tego algorytmu dla każdego z nich):\n",
    "   - M1 = A11 * B11\n",
    "   - M2 = A12 * B21\n",
    "   - M3 = A11 * B12\n",
    "   - M4 = A12 * B22\n",
    "   - M5 = A21 * B11\n",
    "   - M6 = A22 * B21\n",
    "   - M7 = A21 * B12\n",
    "   - M8 = A22 * B22\n",
    "5. Zsumuj odpowiednie iloczyny, aby uzyskać wynikową macierz C:\n",
    "    - C11 = M1 + M2\n",
    "    - C12 = M3 + M4\n",
    "    - C21 = M5 + M6\n",
    "    - C22 = M7 + M8\n",
    "6. Zwróć macierz C jako wynik mnożenia A i B.\n",
    "\n",
    "Poniżej prezentujemy wzory macierzowe:\n",
    "$$\n",
    "\\begin{array}{cc}\n",
    "A = \\begin{bmatrix}\n",
    "A_{11} & A_{12}\\\\\n",
    "A_{21} & A_{22}\n",
    "\\end{bmatrix}\n",
    "&\n",
    "B = \\begin{bmatrix}\n",
    "B_{11} & B_{12}\\\\\n",
    "B_{21} & B_{22}\n",
    "\\end{bmatrix}\n",
    "\\end{array}\n",
    "$$\n",
    "\n",
    "$$\n",
    "C = A * B = \\begin{bmatrix}\n",
    "(A_{11} * B_{11} + A_{12} * B_{21}) & (A_{11} * B_{12} + A_{12} * B_{22})\\\\\n",
    "(A_{21} * B_{11} + A_{22} * B_{21}) & (A_{21} * B_{12} + A_{22} * B_{22})\n",
    "\\end{bmatrix}\n",
    "$$"
   ],
   "id": "f950941a447ebce7"
  },
  {
   "metadata": {},
   "cell_type": "markdown",
   "source": [
    "### Implementacja\n",
    " Najważaniejsze fragmenty implementacji przedstawiamy poniżej, cały kod (wraz z \"wrapperem\" wspomnianym wyżej) dostępny jest w pliku z kodem źródłowym."
   ],
   "id": "cc1707055e1efcf5"
  },
  {
   "metadata": {},
   "cell_type": "markdown",
   "source": [
    "```python\n",
    "def binet(self, matrix_a: np.ndarray, matrix_b: np.ndarray) -> np.ndarray:\n",
    "    \"\"\"\n",
    "    Rekurencyjna funkcja mnożąca dwie macerze metodą Bineta.\n",
    "    :param matrix_a: Pierwsza macierz\n",
    "    :param matrix_b: Druga macierz\n",
    "    :return: Wynik mnożenia macierzy\n",
    "    \"\"\"\n",
    "    # Jeśli któraś z macierzy ma wymiar 1 w którymkolwiek kierunku, to mnożymy klasycznie\n",
    "    if min(matrix_a.shape) == 1 or min(matrix_b.shape) == 1:\n",
    "        result = np.zeros((matrix_a.shape[0], matrix_b.shape[1]))\n",
    "        for i in range(matrix_a.shape[0]):\n",
    "            for j in range(matrix_b.shape[1]):\n",
    "                for k in range(matrix_a.shape[1]):\n",
    "                    result[i, j] += matrix_a[i, k] * matrix_b[k, j]\n",
    "        return result\n",
    "\n",
    "\n",
    "    a11, a12, a21, a22 = self.split(matrix_a) # Rodzielamy macierz na 4 części\n",
    "    b11, b12, b21, b22 = self.split(matrix_b)\n",
    "\n",
    "    prod_1 = self.binet(a11, b11)\n",
    "    prod_2 = self.binet(a12, b21)\n",
    "    c1 = prod_1 + prod_2\n",
    "\n",
    "    ... # Analogicznie dla pozostałych części macierzy wynikowej\n",
    "\n",
    "    # Zwracamy połączenie macierzy c1, c2, c3, c4 w jedną dużą macierz\n",
    "    return np.vstack((np.hstack((c1, c2)), np.hstack((c3, c4))))\n",
    "\n",
    "def split(self, matrix: np.ndarray) -> tuple[np.ndarray, np.ndarray, np.ndarray, np.ndarray]:\n",
    "    \"\"\"\n",
    "    Funkcja rozdzielająca macierz na 4 (w miarę możliwości równe) części.\n",
    "    :param matrix: Macierz do rozdzielenia.\n",
    "    :return: 4 macierze powstałe przez rozdział tej oryginalnej\n",
    "    \"\"\"\n",
    "    horizontal_split_point = matrix.shape[1] // 2\n",
    "    vertical_split_point = matrix.shape[0] // 2\n",
    "\n",
    "    return (matrix[:vertical_split_point, :horizontal_split_point],\n",
    "            matrix[:vertical_split_point, horizontal_split_point:],\n",
    "            matrix[vertical_split_point:, :horizontal_split_point],\n",
    "            matrix[vertical_split_point:, horizontal_split_point:])\n",
    "```"
   ],
   "id": "76129dc5178c3aaf"
  },
  {
   "metadata": {},
   "cell_type": "markdown",
   "source": "### Analiza algorytmu",
   "id": "625104d8ce98ae17"
  },
  {
   "metadata": {},
   "cell_type": "markdown",
   "source": [
    "**Ważne uwagi:**\n",
    "1. Mówiąc o *rozmiarze macierzy*, mamy na myśli liczbę elementów w jednym wierszy/jednej kolumnie, a nie liczbę wszystkich elementów macierzy.\n",
    "2. Algorytm odpaliliśmy dla każdego romizaru macierzy kilka razy, po czym wzięliśmy medianę czasu wykonania, aby zminimalizować wpływ czynników zewnętrznych na pomiar czasu.\n",
    "3. Analizę prowadziliśmy do rozmiaru, dla którego czas wykonania przekroczył 10 sekund."
   ],
   "id": "6cddd3c3b903631"
  },
  {
   "metadata": {
    "jupyter": {
     "is_executing": true
    }
   },
   "cell_type": "code",
   "source": [
    "from binet import BinetWrapper\n",
    "from time import time\n",
    "from statistics import median\n",
    "\n",
    "wrappers = [BinetWrapper() for _ in range(len(matrices))]\n",
    "for i, (matrix_a, matrix_b) in enumerate(matrices):\n",
    "    for _ in range(3):\n",
    "        time1 = time()\n",
    "        wrappers[i].binet(matrix_a, matrix_b)\n",
    "        time2 = time()\n",
    "        wrappers[i].time_used.append(time2 - time1)\n",
    "    wrappers[i].time_used = median(wrappers[i].time_used)\n",
    "    wrappers[i].flops //= 3\n",
    "    wrappers[i].memory_used //= 3\n",
    "    # Jeśli policzenie iloczynu dwóch macierzy zajęło więcej niż 10 s, przerywamy obliczenia.\n",
    "    if wrappers[i].time_used > 10:\n",
    "        break\n",
    "\n",
    "successful_wrappers = [wrapper for wrapper in wrappers if wrapper.time_used != 0]"
   ],
   "id": "8c89e45be30c0003",
   "outputs": [],
   "execution_count": null
  },
  {
   "metadata": {},
   "cell_type": "markdown",
   "source": "#### Czas wykonania",
   "id": "ec7879348d60a534"
  },
  {
   "metadata": {},
   "cell_type": "code",
   "source": [
    "import matplotlib.pyplot as plt\n",
    "\n",
    "plt.scatter(range(1, len(successful_wrappers) + 1), [wrapper.time_used for wrapper in successful_wrappers if wrapper.time_used != 0])\n",
    "plt.title(\"Zależność czasu wykonania od rozmiaru macierzy\")\n",
    "plt.xlabel(\"Rozmiar macierzy\")\n",
    "plt.ylabel(\"Czas wykonania (s)\")\n",
    "plt.show()"
   ],
   "id": "bffd2979cd649e09",
   "outputs": [],
   "execution_count": null
  },
  {
   "metadata": {},
   "cell_type": "markdown",
   "source": "Na powyższym wykresie widać pewnego rodzaju \"spowolnienie\" wzrostu czasu wykonania dla niektórych rozmiarów",
   "id": "ff28ac086c13532e"
  },
  {
   "metadata": {},
   "cell_type": "markdown",
   "source": "#### Liczba operacji zmiennoprzecinkowych",
   "id": "952d97ff4068cda2"
  },
  {
   "metadata": {},
   "cell_type": "code",
   "source": [
    "plt.scatter(range(1, len(successful_wrappers) + 1), [wrapper.flops for wrapper in successful_wrappers if wrapper.time_used != 0])\n",
    "plt.title(\"Zależność liczby operacji od rozmiaru macierzy\")\n",
    "plt.xlabel(\"Rozmiar macierzy\")\n",
    "plt.ylabel(\"Liczba operacji\")\n",
    "plt.show()"
   ],
   "id": "12b0ed8e9ae1fe60",
   "outputs": [],
   "execution_count": null
  },
  {
   "metadata": {},
   "cell_type": "markdown",
   "source": "#### Zużycie pamięci",
   "id": "4a17dddfdec2974a"
  },
  {
   "metadata": {},
   "cell_type": "code",
   "source": [
    "plt.scatter(range(1, len(successful_wrappers) + 1), [wrapper.memory_used for wrapper in successful_wrappers if wrapper.time_used != 0])\n",
    "plt.title(\"Zależność zużycia pamięci od rozmiaru macierzy\")\n",
    "plt.xlabel(\"Rozmiar macierzy\")\n",
    "plt.ylabel(\"Zużycie pamięci (B)\")\n",
    "plt.show()"
   ],
   "id": "c8fbf22120710e49",
   "outputs": [],
   "execution_count": null
  },
  {
   "metadata": {},
   "cell_type": "markdown",
   "source": "",
   "id": "d2a2407e28c44d4c"
  }
 ],
 "metadata": {
  "kernelspec": {
   "display_name": "Python 3",
   "language": "python",
   "name": "python3"
  },
  "language_info": {
   "codemirror_mode": {
    "name": "ipython",
    "version": 2
   },
   "file_extension": ".py",
   "mimetype": "text/x-python",
   "name": "python",
   "nbconvert_exporter": "python",
   "pygments_lexer": "ipython2",
   "version": "2.7.6"
  }
 },
 "nbformat": 4,
 "nbformat_minor": 5
}
