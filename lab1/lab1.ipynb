{
 "cells": [
  {
   "metadata": {},
   "cell_type": "markdown",
   "source": "# Algorytmy macierzowe - lab 1",
   "id": "96286490fa4a6c03"
  },
  {
   "metadata": {
    "jupyter": {
     "is_executing": true
    }
   },
   "cell_type": "markdown",
   "source": "### Krzysztof Kopel, Marcin Szulc",
   "id": "b31bbd78b71c6770"
  },
  {
   "metadata": {
    "ExecuteTime": {
     "end_time": "2025-10-18T11:08:10.382281Z",
     "start_time": "2025-10-18T11:08:10.373876Z"
    }
   },
   "cell_type": "code",
   "source": "## Jak już będziemy mieć coś napisane, to tutaj można to odpalać na konkretnych przykładach",
   "id": "1ca0beb04f9eaee8",
   "outputs": [],
   "execution_count": 2
  }
 ],
 "metadata": {
  "kernelspec": {
   "display_name": "Python 3",
   "language": "python",
   "name": "python3"
  },
  "language_info": {
   "codemirror_mode": {
    "name": "ipython",
    "version": 2
   },
   "file_extension": ".py",
   "mimetype": "text/x-python",
   "name": "python",
   "nbconvert_exporter": "python",
   "pygments_lexer": "ipython2",
   "version": "2.7.6"
  }
 },
 "nbformat": 4,
 "nbformat_minor": 5
}
