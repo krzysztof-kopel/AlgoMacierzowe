{
 "cells": [
  {
   "metadata": {},
   "cell_type": "markdown",
   "source": "# Algorytmy macierzowe — lab 1",
   "id": "96286490fa4a6c03"
  },
  {
   "metadata": {
    "jupyter": {
     "is_executing": true
    }
   },
   "cell_type": "markdown",
   "source": "### Krzysztof Kopel, Marcin Szulc",
   "id": "b31bbd78b71c6770"
  },
  {
   "metadata": {
    "ExecuteTime": {
     "end_time": "2025-10-18T11:08:10.382281Z",
     "start_time": "2025-10-18T11:08:10.373876Z"
    }
   },
   "cell_type": "markdown",
   "source": [
    "## Cel laboratorium\n",
    "Celem laboratorium było zaimplementowanie i przetestowanie podstawowych algorytmów mnożenia macierzy, w tym metod Binéta, Strassena oraz Nature AI. Testowanie zaimplementowanych algorytmów polegać miało w szczególności na sprawdzeniu ich poprawności oraz oszacowaniu złożoności obliczeniowej, a także zależności czasu wykonania, zużycia pamięci i liczby operacji zmiennoprzecinkowych od rozmiaru macierzy wejściowych."
   ],
   "id": "7113a2ba08bc5869"
  },
  {
   "metadata": {},
   "cell_type": "markdown",
   "source": [
    "## Ustalenia techniczne\n",
    "Do implementacji algorytmów wykorzystaliśmy język Python w wersji 3.13. Macierze zostały zaimplementowane jako Numpy ndarrays, które dzięki swojej implementacji są szybsze od tradycyjnych Pythonowych list wielowymiarowych, jak również posiadają kilka przydatnych dla nas metod, np. do sprawdzania rozmiaru macierzy. Każdy algorytm \"opakowaliśmy\" w klasę, w której zapisywaliśmy informację na temat liczby wykonanych operacji zmiennoprzecinkowych oraz zużycia pamięci (tzw. wrapper). Do pomiaru czasu wykonania posłużyła nam biblioteka time. Do wizualizacji wyników wykorzystaliśmy bibliotekę matplotlib."
   ],
   "id": "66b6484cfa35a7cc"
  },
  {
   "metadata": {
    "jupyter": {
     "is_executing": true
    }
   },
   "cell_type": "markdown",
   "source": [
    "## Metoda Binéta\n",
    "Metoda Binéta polega na podzieleniu macierzy na cztery \"bloki\" i wykonaniu na nich rekurencyjnie odpowiednich operacji mnożenia i dodawania. Rekurencja kończyła się, gdy liczba kolumn lub wierszy w jednej z macierzy spadała do 1, wówczas reszta mnożenia była wykonywana algorytmem klasycznym.\n",
    "### Pseudokod algorytmu:\n",
    "1. Jeśli któraś z macierzy ma liczbę kolumn lub wierszy równą 1, to wykonaj mnożenie klasyczne i zakończ.\n",
    "2. Podziel macierz A na cztery bloki: A11, A12, A21, A22.\n",
    "3. Podziel macierz B na cztery bloki: B11, B12, B21, B22.\n",
    "4. Oblicz następujące iloczyny rekurencyjnie (wracając do punktu 1 tego algorytmu dla każdego z nich):\n",
    "   - M1 = A11 * B11\n",
    "   - M2 = A12 * B21\n",
    "   - M3 = A11 * B12\n",
    "   - M4 = A12 * B22\n",
    "   - M5 = A21 * B11\n",
    "   - M6 = A22 * B21\n",
    "   - M7 = A21 * B12\n",
    "   - M8 = A22 * B22\n",
    "5. Zsumuj odpowiednie iloczyny, aby uzyskać wynikową macierz C:\n",
    "    - C11 = M1 + M2\n",
    "    - C12 = M3 + M4\n",
    "    - C21 = M5 + M6\n",
    "    - C22 = M7 + M8\n",
    "6. Zwróć macierz C jako wynik mnożenia A i B.\n",
    "\n",
    "Poniżej prezentujemy wzory macierzowe:\n",
    "$$\n",
    "\\begin{array}{cc}\n",
    "A = \\begin{bmatrix}\n",
    "A_{11} & A_{12}\\\\\n",
    "A_{21} & A_{22}\n",
    "\\end{bmatrix}\n",
    "&\n",
    "B = \\begin{bmatrix}\n",
    "B_{11} & B_{12}\\\\\n",
    "B_{21} & B_{22}\n",
    "\\end{bmatrix}\n",
    "\\end{array}\n",
    "$$\n",
    "\n",
    "$$\n",
    "C = A * B = \\begin{bmatrix}\n",
    "(A_{11} * B_{11} + A_{12} * B_{21}) & (A_{11} * B_{12} + A_{12} * B_{22})\\\\\n",
    "(A_{21} * B_{11} + A_{22} * B_{21}) & (A_{21} * B_{12} + A_{22} * B_{22})\n",
    "\\end{bmatrix}\n",
    "$$"
   ],
   "id": "f950941a447ebce7"
  },
  {
   "metadata": {},
   "cell_type": "markdown",
   "source": [
    "### Implementacja\n",
    " Najważaniejsze fragmenty implementacji przedstawiamy poniżej, cały kod (wraz z \"wrapperem\" wspomnianym wyżej) dostępny jest w pliku z kodem źródłowym."
   ],
   "id": "cc1707055e1efcf5"
  },
  {
   "metadata": {},
   "cell_type": "markdown",
   "source": [
    "```python\n",
    "def binet(self, matrix_a: np.ndarray, matrix_b: np.ndarray) -> np.ndarray:\n",
    "    \"\"\"\n",
    "    Rekurencyjna funkcja mnożąca dwie macerze metodą Bineta.\n",
    "    :param matrix_a: Pierwsza macierz\n",
    "    :param matrix_b: Druga macierz\n",
    "    :return: Wynik mnożenia macierzy\n",
    "    \"\"\"\n",
    "    # Jeśli któraś z macierzy ma wymiar 1 w którymkolwiek kierunku, to mnożymy klasycznie\n",
    "    if min(matrix_a.shape) == 1 or min(matrix_b.shape) == 1:\n",
    "        result = np.zeros((matrix_a.shape[0], matrix_b.shape[1]))\n",
    "        for i in range(matrix_a.shape[0]):\n",
    "            for j in range(matrix_b.shape[1]):\n",
    "                for k in range(matrix_a.shape[1]):\n",
    "                    result[i, j] += matrix_a[i, k] * matrix_b[k, j]\n",
    "        return result\n",
    "\n",
    "\n",
    "    a11, a12, a21, a22 = self.split(matrix_a) # Rodzielamy macierz na 4 części\n",
    "    b11, b12, b21, b22 = self.split(matrix_b)\n",
    "\n",
    "    prod_1 = self.binet(a11, b11)\n",
    "    prod_2 = self.binet(a12, b21)\n",
    "    c1 = prod_1 + prod_2\n",
    "\n",
    "    ... # Analogicznie dla pozostałych części macierzy wynikowej\n",
    "\n",
    "    # Zwracamy połączenie macierzy c1, c2, c3, c4 w jedną dużą macierz\n",
    "    return np.vstack((np.hstack((c1, c2)), np.hstack((c3, c4))))\n",
    "\n",
    "def split(self, matrix: np.ndarray) -> tuple[np.ndarray, np.ndarray, np.ndarray, np.ndarray]:\n",
    "    \"\"\"\n",
    "    Funkcja rozdzielająca macierz na 4 (w miarę możliwości równe) części.\n",
    "    :param matrix: Macierz do rozdzielenia.\n",
    "    :return: 4 macierze powstałe przez rozdział tej oryginalnej\n",
    "    \"\"\"\n",
    "    horizontal_split_point = matrix.shape[1] // 2\n",
    "    vertical_split_point = matrix.shape[0] // 2\n",
    "\n",
    "    return (matrix[:vertical_split_point, :horizontal_split_point],\n",
    "            matrix[:vertical_split_point, horizontal_split_point:],\n",
    "            matrix[vertical_split_point:, :horizontal_split_point],\n",
    "            matrix[vertical_split_point:, horizontal_split_point:])\n",
    "```"
   ],
   "id": "76129dc5178c3aaf"
  }
 ],
 "metadata": {
  "kernelspec": {
   "display_name": "Python 3",
   "language": "python",
   "name": "python3"
  },
  "language_info": {
   "codemirror_mode": {
    "name": "ipython",
    "version": 2
   },
   "file_extension": ".py",
   "mimetype": "text/x-python",
   "name": "python",
   "nbconvert_exporter": "python",
   "pygments_lexer": "ipython2",
   "version": "2.7.6"
  }
 },
 "nbformat": 4,
 "nbformat_minor": 5
}
